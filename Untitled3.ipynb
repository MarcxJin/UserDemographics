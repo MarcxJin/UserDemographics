{
 "cells": [
  {
   "cell_type": "code",
   "execution_count": 2,
   "metadata": {
    "collapsed": true
   },
   "outputs": [],
   "source": [
    "import numpy as np\n",
    "import pandas as pd"
   ]
  },
  {
   "cell_type": "code",
   "execution_count": 3,
   "metadata": {
    "collapsed": true
   },
   "outputs": [],
   "source": [
    "f1 = pd.read_csv('/Users/Derick/Downloads/stacking 3.csv')"
   ]
  },
  {
   "cell_type": "code",
   "execution_count": 4,
   "metadata": {
    "collapsed": true
   },
   "outputs": [],
   "source": [
    "f2 = pd.read_csv('/Users/Derick/Downloads/2.23.csv')\n",
    "f3 = pd.read_csv('/Users/Derick/Downloads/average1.csv')\n",
    "f4 = pd.read_csv('/Users/Derick/Downloads/stacking 2.csv')\n",
    "f5 = pd.read_csv('/Users/Derick/Downloads/average 2.csv')\n",
    "f6 = pd.read_csv('/Users/Derick/Downloads/average.csv')\n",
    "f7 = pd.read_csv('/Users/Derick/Downloads/average2 2.csv')\n",
    "f8 = pd.read_csv('/Users/Derick/Downloads/average2.csv')\n",
    "f9 = pd.read_csv('/Users/Derick/Downloads/stacking.csv')"
   ]
  },
  {
   "cell_type": "code",
   "execution_count": 9,
   "metadata": {
    "collapsed": false
   },
   "outputs": [
    {
     "data": {
      "text/html": [
       "<div>\n",
       "<table border=\"1\" class=\"dataframe\">\n",
       "  <thead>\n",
       "    <tr style=\"text-align: right;\">\n",
       "      <th></th>\n",
       "      <th>device_id</th>\n",
       "      <th>F23-</th>\n",
       "      <th>F24-26</th>\n",
       "      <th>F27-28</th>\n",
       "      <th>F29-32</th>\n",
       "      <th>F33-42</th>\n",
       "      <th>F43+</th>\n",
       "      <th>M22-</th>\n",
       "      <th>M23-26</th>\n",
       "      <th>M27-28</th>\n",
       "      <th>M29-31</th>\n",
       "      <th>M32-38</th>\n",
       "      <th>M39+</th>\n",
       "    </tr>\n",
       "  </thead>\n",
       "  <tbody>\n",
       "    <tr>\n",
       "      <th>0</th>\n",
       "      <td>1002079943728939269</td>\n",
       "      <td>0.000186</td>\n",
       "      <td>0.000735</td>\n",
       "      <td>0.001610</td>\n",
       "      <td>0.006131</td>\n",
       "      <td>0.024821</td>\n",
       "      <td>0.044524</td>\n",
       "      <td>0.003208</td>\n",
       "      <td>0.032190</td>\n",
       "      <td>0.036856</td>\n",
       "      <td>0.099197</td>\n",
       "      <td>0.282668</td>\n",
       "      <td>0.467874</td>\n",
       "    </tr>\n",
       "    <tr>\n",
       "      <th>1</th>\n",
       "      <td>-1547860181818787117</td>\n",
       "      <td>0.001775</td>\n",
       "      <td>0.006426</td>\n",
       "      <td>0.010786</td>\n",
       "      <td>0.024882</td>\n",
       "      <td>0.085088</td>\n",
       "      <td>0.098498</td>\n",
       "      <td>0.006956</td>\n",
       "      <td>0.046530</td>\n",
       "      <td>0.050364</td>\n",
       "      <td>0.116643</td>\n",
       "      <td>0.257767</td>\n",
       "      <td>0.294285</td>\n",
       "    </tr>\n",
       "    <tr>\n",
       "      <th>2</th>\n",
       "      <td>7374582448058474277</td>\n",
       "      <td>0.014134</td>\n",
       "      <td>0.038093</td>\n",
       "      <td>0.052262</td>\n",
       "      <td>0.119329</td>\n",
       "      <td>0.164997</td>\n",
       "      <td>0.080816</td>\n",
       "      <td>0.009885</td>\n",
       "      <td>0.036705</td>\n",
       "      <td>0.057164</td>\n",
       "      <td>0.103765</td>\n",
       "      <td>0.197194</td>\n",
       "      <td>0.125655</td>\n",
       "    </tr>\n",
       "    <tr>\n",
       "      <th>3</th>\n",
       "      <td>-6220210354783429585</td>\n",
       "      <td>0.002713</td>\n",
       "      <td>0.005073</td>\n",
       "      <td>0.006562</td>\n",
       "      <td>0.008607</td>\n",
       "      <td>0.029502</td>\n",
       "      <td>0.057418</td>\n",
       "      <td>0.046042</td>\n",
       "      <td>0.156190</td>\n",
       "      <td>0.100671</td>\n",
       "      <td>0.169044</td>\n",
       "      <td>0.230774</td>\n",
       "      <td>0.187403</td>\n",
       "    </tr>\n",
       "    <tr>\n",
       "      <th>4</th>\n",
       "      <td>6873889408535437611</td>\n",
       "      <td>0.000348</td>\n",
       "      <td>0.002589</td>\n",
       "      <td>0.004617</td>\n",
       "      <td>0.013148</td>\n",
       "      <td>0.032451</td>\n",
       "      <td>0.021597</td>\n",
       "      <td>0.002750</td>\n",
       "      <td>0.048138</td>\n",
       "      <td>0.075050</td>\n",
       "      <td>0.210144</td>\n",
       "      <td>0.427334</td>\n",
       "      <td>0.161834</td>\n",
       "    </tr>\n",
       "  </tbody>\n",
       "</table>\n",
       "</div>"
      ],
      "text/plain": [
       "             device_id      F23-    F24-26    F27-28    F29-32    F33-42  \\\n",
       "0  1002079943728939269  0.000186  0.000735  0.001610  0.006131  0.024821   \n",
       "1 -1547860181818787117  0.001775  0.006426  0.010786  0.024882  0.085088   \n",
       "2  7374582448058474277  0.014134  0.038093  0.052262  0.119329  0.164997   \n",
       "3 -6220210354783429585  0.002713  0.005073  0.006562  0.008607  0.029502   \n",
       "4  6873889408535437611  0.000348  0.002589  0.004617  0.013148  0.032451   \n",
       "\n",
       "       F43+      M22-    M23-26    M27-28    M29-31    M32-38      M39+  \n",
       "0  0.044524  0.003208  0.032190  0.036856  0.099197  0.282668  0.467874  \n",
       "1  0.098498  0.006956  0.046530  0.050364  0.116643  0.257767  0.294285  \n",
       "2  0.080816  0.009885  0.036705  0.057164  0.103765  0.197194  0.125655  \n",
       "3  0.057418  0.046042  0.156190  0.100671  0.169044  0.230774  0.187403  \n",
       "4  0.021597  0.002750  0.048138  0.075050  0.210144  0.427334  0.161834  "
      ]
     },
     "execution_count": 9,
     "metadata": {},
     "output_type": "execute_result"
    }
   ],
   "source": [
    "f1.head()"
   ]
  },
  {
   "cell_type": "code",
   "execution_count": 17,
   "metadata": {
    "collapsed": false
   },
   "outputs": [],
   "source": [
    "f_new = (f1+f2+f3+f4+f5+f6+f7+f8+f9)/9"
   ]
  },
  {
   "cell_type": "code",
   "execution_count": 19,
   "metadata": {
    "collapsed": false
   },
   "outputs": [],
   "source": [
    "f_new.device_id = f1.device_id"
   ]
  },
  {
   "cell_type": "code",
   "execution_count": 23,
   "metadata": {
    "collapsed": false
   },
   "outputs": [],
   "source": [
    "f_new.to_csv('avg.csv', index = False)"
   ]
  },
  {
   "cell_type": "code",
   "execution_count": null,
   "metadata": {
    "collapsed": true
   },
   "outputs": [],
   "source": []
  }
 ],
 "metadata": {
  "kernelspec": {
   "display_name": "Python 3",
   "language": "python",
   "name": "python3"
  },
  "language_info": {
   "codemirror_mode": {
    "name": "ipython",
    "version": 3
   },
   "file_extension": ".py",
   "mimetype": "text/x-python",
   "name": "python",
   "nbconvert_exporter": "python",
   "pygments_lexer": "ipython3",
   "version": "3.5.1"
  }
 },
 "nbformat": 4,
 "nbformat_minor": 0
}
